{
 "cells": [
  {
   "cell_type": "code",
   "execution_count": 25,
   "metadata": {
    "id": "EL6zHEV-5dFS"
   },
   "outputs": [],
   "source": [
    "import pandas as pd\n",
    "import numpy as np\n",
    "from datetime import datetime\n",
    "import joblib\n",
    "from google.colab import files\n",
    "import seaborn as sns\n",
    "import matplotlib.pyplot as plt\n",
    "\n",
    "import warnings\n",
    "from sklearn.model_selection import train_test_split, GridSearchCV\n",
    "from sklearn.model_selection import StratifiedShuffleSplit\n",
    "from sklearn.preprocessing import StandardScaler, OrdinalEncoder, LabelEncoder, RobustScaler\n",
    "from sklearn.pipeline import Pipeline\n",
    "from xgboost import XGBClassifier\n",
    "from sklearn.metrics import make_scorer, f1_score\n",
    "from sklearn.model_selection import StratifiedKFold, cross_val_score\n",
    "from sklearn.metrics import classification_report\n",
    "from sklearn.ensemble import RandomForestClassifier\n",
    "from sklearn.tree import DecisionTreeClassifier\n",
    "from sklearn.svm import SVC\n",
    "from imblearn.over_sampling import RandomOverSampler\n",
    "from imblearn.under_sampling import RandomUnderSampler\n",
    "from imblearn.pipeline import Pipeline as imbPipeline\n",
    "\n",
    "# To ignore all warnings\n",
    "warnings.filterwarnings(\"ignore\")"
   ]
  },
  {
   "cell_type": "markdown",
   "metadata": {
    "id": "PbcjSAY1Bcg9"
   },
   "source": [
    "The original dataset was taken from the following GitHub repository:\n",
    "https://github.com/Byte7/Solar-Flares-Prediction-RHESSI-Mission/blob/master/data/hessi.solar.flare.2002to2016.csv"
   ]
  },
  {
   "cell_type": "code",
   "execution_count": 27,
   "metadata": {
    "id": "AQOVcWrr5tVC"
   },
   "outputs": [],
   "source": [
    "df=pd.read_csv(\"/content/hessi.solar.flare.2002to2016.csv\")\n",
    "\n",
    "# To run in Jupyter Notebook\n",
    "# df=pd.read_csv(\"../Dataset/hessi.solar.flare.2002to2016.csv\")"
   ]
  },
  {
   "cell_type": "markdown",
   "metadata": {
    "id": "qvbcf3yZWqtz"
   },
   "source": [
    "DATASET METADATA"
   ]
  },
  {
   "cell_type": "code",
   "execution_count": 28,
   "metadata": {
    "colab": {
     "base_uri": "https://localhost:8080/",
     "height": 123
    },
    "id": "4icCYdPZWrCn",
    "outputId": "6dd5b2bf-5fa5-484a-9bf2-587561af7032"
   },
   "outputs": [
    {
     "data": {
      "text/plain": [
       "'Notes:\\n  Note that only events with non-zero position and energy range not equal to 3-6 keV are confirmed as solar sources.\\n  Events which have no position and show up mostly in the front detectors, but were not able to be imaged\\n    are flagged as \"PS\".\\n  Events which do not have valid position are only confirmed to be non-solar if the NS flag is set.\\n  Peak Rate:  peak counts/second in energy range 6-12 keV, averaged over active collimators, including background.\\n  Total Counts:  counts in energy range 6-12 keV integrated over duration of flare summed over all subcollimators,\\n    including background.\\n  Energy:  the highest energy band in which the flare was observed.\\n  Radial Distance:  distance from Sun center\\n  Quality Codes: Qn, where n is the total number of data gap, SAA, particle, eclipse or decimation flags set for event.\\n    n ranges from 0 to 11.  Use care when analyzing the data when the quality is not zero.\\n\\nFlare Flag Codes:\\n  a0 - In attenuator state 0 (None) sometime during flare\\n  a1 - In attenuator state 1 (Thin) sometime during flare\\n  a2 - In attenuator state 2 (Thick) sometime during flare\\n  a3 - In attenuator state 3 (Both) sometime during flare\\n  An - Attenuator state (0=None, 1=Thin, 2=Thick, 3=Both) at peak of flare\\n  DF - Front segment counts were decimated sometime during flare\\n  DR - Rear segment counts were decimated sometime during flare\\n  ED - Spacecraft eclipse (night) sometime during flare\\n  EE - Flare ended in spacecraft eclipse (night)\\n  ES - Flare started in spacecraft eclipse (night)\\n  FE - Flare ongoing at end of file\\n  FR - In Fast Rate Mode\\n  FS - Flare ongoing at start of file\\n  GD - Data gap during flare\\n  GE - Flare ended in data gap\\n  GS - Flare started in data gap\\n  MR - Spacecraft in high-latitude zone during flare\\n  NS - Non-solar event\\n  PE - Particle event: Particles are present\\n  PS - Possible Solar Flare; in front detectors, but no position\\n  Pn - Position Quality: P0 = Position is NOT valid, P1 = Position is valid\\n  Qn - Data Quality: Q0 = Highest Quality, Q11 = Lowest Quality\\n  SD - Spacecraft was in SAA sometime during flare\\n  SE - Flare ended when spacecraft was in SAA\\n  SS - Flare started when spacecraft was in SAA\\n\\nNote: The above information was extracted from the original RHESSI file\\n'"
      ]
     },
     "execution_count": 28,
     "metadata": {},
     "output_type": "execute_result"
    }
   ],
   "source": [
    "'''Notes:\n",
    "  Note that only events with non-zero position and energy range not equal to 3-6 keV are confirmed as solar sources.\n",
    "  Events which have no position and show up mostly in the front detectors, but were not able to be imaged\n",
    "    are flagged as \"PS\".\n",
    "  Events which do not have valid position are only confirmed to be non-solar if the NS flag is set.\n",
    "  Peak Rate:  peak counts/second in energy range 6-12 keV, averaged over active collimators, including background.\n",
    "  Total Counts:  counts in energy range 6-12 keV integrated over duration of flare summed over all subcollimators,\n",
    "    including background.\n",
    "  Energy:  the highest energy band in which the flare was observed.\n",
    "  Radial Distance:  distance from Sun center\n",
    "  Quality Codes: Qn, where n is the total number of data gap, SAA, particle, eclipse or decimation flags set for event.\n",
    "    n ranges from 0 to 11.  Use care when analyzing the data when the quality is not zero.\n",
    "\n",
    "Flare Flag Codes:\n",
    "  a0 - In attenuator state 0 (None) sometime during flare\n",
    "  a1 - In attenuator state 1 (Thin) sometime during flare\n",
    "  a2 - In attenuator state 2 (Thick) sometime during flare\n",
    "  a3 - In attenuator state 3 (Both) sometime during flare\n",
    "  An - Attenuator state (0=None, 1=Thin, 2=Thick, 3=Both) at peak of flare\n",
    "  DF - Front segment counts were decimated sometime during flare\n",
    "  DR - Rear segment counts were decimated sometime during flare\n",
    "  ED - Spacecraft eclipse (night) sometime during flare\n",
    "  EE - Flare ended in spacecraft eclipse (night)\n",
    "  ES - Flare started in spacecraft eclipse (night)\n",
    "  FE - Flare ongoing at end of file\n",
    "  FR - In Fast Rate Mode\n",
    "  FS - Flare ongoing at start of file\n",
    "  GD - Data gap during flare\n",
    "  GE - Flare ended in data gap\n",
    "  GS - Flare started in data gap\n",
    "  MR - Spacecraft in high-latitude zone during flare\n",
    "  NS - Non-solar event\n",
    "  PE - Particle event: Particles are present\n",
    "  PS - Possible Solar Flare; in front detectors, but no position\n",
    "  Pn - Position Quality: P0 = Position is NOT valid, P1 = Position is valid\n",
    "  Qn - Data Quality: Q0 = Highest Quality, Q11 = Lowest Quality\n",
    "  SD - Spacecraft was in SAA sometime during flare\n",
    "  SE - Flare ended when spacecraft was in SAA\n",
    "  SS - Flare started when spacecraft was in SAA\n",
    "\n",
    "Note: The above information was extracted from the original RHESSI file\n",
    "'''"
   ]
  },
  {
   "cell_type": "code",
   "execution_count": 29,
   "metadata": {
    "colab": {
     "base_uri": "https://localhost:8080/",
     "height": 443
    },
    "id": "TdZXNdV-9JLf",
    "outputId": "36ffadb3-70e3-4787-8034-5853a0df9d5f"
   },
   "outputs": [
    {
     "data": {
      "text/html": [
       "<div>\n",
       "<style scoped>\n",
       "    .dataframe tbody tr th:only-of-type {\n",
       "        vertical-align: middle;\n",
       "    }\n",
       "\n",
       "    .dataframe tbody tr th {\n",
       "        vertical-align: top;\n",
       "    }\n",
       "\n",
       "    .dataframe thead th {\n",
       "        text-align: right;\n",
       "    }\n",
       "</style>\n",
       "<table border=\"1\" class=\"dataframe\">\n",
       "  <thead>\n",
       "    <tr style=\"text-align: right;\">\n",
       "      <th></th>\n",
       "      <th>flare</th>\n",
       "      <th>start.date</th>\n",
       "      <th>start.time</th>\n",
       "      <th>peak</th>\n",
       "      <th>end</th>\n",
       "      <th>duration.s</th>\n",
       "      <th>peak.c/s</th>\n",
       "      <th>total.counts</th>\n",
       "      <th>energy.kev</th>\n",
       "      <th>x.pos.asec</th>\n",
       "      <th>y.pos.asec</th>\n",
       "      <th>radial</th>\n",
       "      <th>active.region.ar</th>\n",
       "      <th>flag.1</th>\n",
       "      <th>flag.2</th>\n",
       "      <th>flag.3</th>\n",
       "      <th>flag.4</th>\n",
       "      <th>flag.5</th>\n",
       "    </tr>\n",
       "  </thead>\n",
       "  <tbody>\n",
       "    <tr>\n",
       "      <th>0</th>\n",
       "      <td>2021213</td>\n",
       "      <td>2002-02-12</td>\n",
       "      <td>21:29:56</td>\n",
       "      <td>21:33:38</td>\n",
       "      <td>21:41:48</td>\n",
       "      <td>712</td>\n",
       "      <td>136</td>\n",
       "      <td>167304</td>\n",
       "      <td>12-25</td>\n",
       "      <td>592</td>\n",
       "      <td>-358</td>\n",
       "      <td>692</td>\n",
       "      <td>0</td>\n",
       "      <td>A1</td>\n",
       "      <td>P1</td>\n",
       "      <td>NaN</td>\n",
       "      <td>NaN</td>\n",
       "      <td>NaN</td>\n",
       "    </tr>\n",
       "    <tr>\n",
       "      <th>1</th>\n",
       "      <td>2021228</td>\n",
       "      <td>2002-02-12</td>\n",
       "      <td>21:44:08</td>\n",
       "      <td>21:45:06</td>\n",
       "      <td>21:48:56</td>\n",
       "      <td>288</td>\n",
       "      <td>7</td>\n",
       "      <td>9504</td>\n",
       "      <td>6-12</td>\n",
       "      <td>604</td>\n",
       "      <td>-341</td>\n",
       "      <td>694</td>\n",
       "      <td>9811</td>\n",
       "      <td>A1</td>\n",
       "      <td>P1</td>\n",
       "      <td>PE</td>\n",
       "      <td>Q1</td>\n",
       "      <td>NaN</td>\n",
       "    </tr>\n",
       "    <tr>\n",
       "      <th>2</th>\n",
       "      <td>2021332</td>\n",
       "      <td>2002-02-13</td>\n",
       "      <td>00:53:24</td>\n",
       "      <td>00:54:54</td>\n",
       "      <td>00:57:00</td>\n",
       "      <td>216</td>\n",
       "      <td>15</td>\n",
       "      <td>11448</td>\n",
       "      <td>6-12</td>\n",
       "      <td>-310</td>\n",
       "      <td>375</td>\n",
       "      <td>487</td>\n",
       "      <td>9825</td>\n",
       "      <td>A1</td>\n",
       "      <td>P1</td>\n",
       "      <td>NaN</td>\n",
       "      <td>NaN</td>\n",
       "      <td>NaN</td>\n",
       "    </tr>\n",
       "    <tr>\n",
       "      <th>3</th>\n",
       "      <td>2021308</td>\n",
       "      <td>2002-02-13</td>\n",
       "      <td>04:22:52</td>\n",
       "      <td>04:23:50</td>\n",
       "      <td>04:26:56</td>\n",
       "      <td>244</td>\n",
       "      <td>20</td>\n",
       "      <td>17400</td>\n",
       "      <td>12-25</td>\n",
       "      <td>-277</td>\n",
       "      <td>378</td>\n",
       "      <td>469</td>\n",
       "      <td>9822</td>\n",
       "      <td>A1</td>\n",
       "      <td>P1</td>\n",
       "      <td>NaN</td>\n",
       "      <td>NaN</td>\n",
       "      <td>NaN</td>\n",
       "    </tr>\n",
       "    <tr>\n",
       "      <th>4</th>\n",
       "      <td>2021310</td>\n",
       "      <td>2002-02-13</td>\n",
       "      <td>07:03:52</td>\n",
       "      <td>07:05:14</td>\n",
       "      <td>07:07:48</td>\n",
       "      <td>236</td>\n",
       "      <td>336</td>\n",
       "      <td>313392</td>\n",
       "      <td>25-50</td>\n",
       "      <td>-272</td>\n",
       "      <td>390</td>\n",
       "      <td>476</td>\n",
       "      <td>9825</td>\n",
       "      <td>A1</td>\n",
       "      <td>GS</td>\n",
       "      <td>P1</td>\n",
       "      <td>PE</td>\n",
       "      <td>Q2</td>\n",
       "    </tr>\n",
       "    <tr>\n",
       "      <th>...</th>\n",
       "      <td>...</td>\n",
       "      <td>...</td>\n",
       "      <td>...</td>\n",
       "      <td>...</td>\n",
       "      <td>...</td>\n",
       "      <td>...</td>\n",
       "      <td>...</td>\n",
       "      <td>...</td>\n",
       "      <td>...</td>\n",
       "      <td>...</td>\n",
       "      <td>...</td>\n",
       "      <td>...</td>\n",
       "      <td>...</td>\n",
       "      <td>...</td>\n",
       "      <td>...</td>\n",
       "      <td>...</td>\n",
       "      <td>...</td>\n",
       "      <td>...</td>\n",
       "    </tr>\n",
       "    <tr>\n",
       "      <th>113937</th>\n",
       "      <td>16122603</td>\n",
       "      <td>2016-12-26</td>\n",
       "      <td>22:09:20</td>\n",
       "      <td>22:17:02</td>\n",
       "      <td>22:17:24</td>\n",
       "      <td>484</td>\n",
       "      <td>152</td>\n",
       "      <td>75328</td>\n",
       "      <td>3-6</td>\n",
       "      <td>0</td>\n",
       "      <td>0</td>\n",
       "      <td>0</td>\n",
       "      <td>0</td>\n",
       "      <td>A0</td>\n",
       "      <td>GE</td>\n",
       "      <td>NS</td>\n",
       "      <td>PE</td>\n",
       "      <td>Q2</td>\n",
       "    </tr>\n",
       "    <tr>\n",
       "      <th>113938</th>\n",
       "      <td>16122604</td>\n",
       "      <td>2016-12-26</td>\n",
       "      <td>23:25:32</td>\n",
       "      <td>23:28:18</td>\n",
       "      <td>23:43:48</td>\n",
       "      <td>1096</td>\n",
       "      <td>304</td>\n",
       "      <td>142048</td>\n",
       "      <td>3-6</td>\n",
       "      <td>0</td>\n",
       "      <td>0</td>\n",
       "      <td>0</td>\n",
       "      <td>0</td>\n",
       "      <td>A0</td>\n",
       "      <td>DR</td>\n",
       "      <td>NS</td>\n",
       "      <td>PE</td>\n",
       "      <td>Q2</td>\n",
       "    </tr>\n",
       "    <tr>\n",
       "      <th>113939</th>\n",
       "      <td>16122701</td>\n",
       "      <td>2016-12-27</td>\n",
       "      <td>08:33:08</td>\n",
       "      <td>08:39:06</td>\n",
       "      <td>08:39:40</td>\n",
       "      <td>392</td>\n",
       "      <td>80</td>\n",
       "      <td>32344</td>\n",
       "      <td>3-6</td>\n",
       "      <td>0</td>\n",
       "      <td>0</td>\n",
       "      <td>0</td>\n",
       "      <td>0</td>\n",
       "      <td>A0</td>\n",
       "      <td>DF</td>\n",
       "      <td>NS</td>\n",
       "      <td>PE</td>\n",
       "      <td>Q3 SE</td>\n",
       "    </tr>\n",
       "    <tr>\n",
       "      <th>113940</th>\n",
       "      <td>16122702</td>\n",
       "      <td>2016-12-27</td>\n",
       "      <td>12:21:24</td>\n",
       "      <td>12:21:30</td>\n",
       "      <td>12:30:04</td>\n",
       "      <td>520</td>\n",
       "      <td>24</td>\n",
       "      <td>17336</td>\n",
       "      <td>6-12</td>\n",
       "      <td>326</td>\n",
       "      <td>326</td>\n",
       "      <td>461</td>\n",
       "      <td>0</td>\n",
       "      <td>A0</td>\n",
       "      <td>DF</td>\n",
       "      <td>DR</td>\n",
       "      <td>P1</td>\n",
       "      <td>PE Q3</td>\n",
       "    </tr>\n",
       "    <tr>\n",
       "      <th>113941</th>\n",
       "      <td>16122703</td>\n",
       "      <td>2016-12-27</td>\n",
       "      <td>12:35:40</td>\n",
       "      <td>12:37:14</td>\n",
       "      <td>12:39:00</td>\n",
       "      <td>200</td>\n",
       "      <td>48</td>\n",
       "      <td>11056</td>\n",
       "      <td>6-12</td>\n",
       "      <td>765</td>\n",
       "      <td>198</td>\n",
       "      <td>791</td>\n",
       "      <td>2621</td>\n",
       "      <td>A0</td>\n",
       "      <td>DF</td>\n",
       "      <td>P1</td>\n",
       "      <td>PE</td>\n",
       "      <td>Q2</td>\n",
       "    </tr>\n",
       "  </tbody>\n",
       "</table>\n",
       "<p>113942 rows × 18 columns</p>\n",
       "</div>"
      ],
      "text/plain": [
       "           flare  start.date start.time      peak       end  duration.s  \\\n",
       "0        2021213  2002-02-12   21:29:56  21:33:38  21:41:48         712   \n",
       "1        2021228  2002-02-12   21:44:08  21:45:06  21:48:56         288   \n",
       "2        2021332  2002-02-13   00:53:24  00:54:54  00:57:00         216   \n",
       "3        2021308  2002-02-13   04:22:52  04:23:50  04:26:56         244   \n",
       "4        2021310  2002-02-13   07:03:52  07:05:14  07:07:48         236   \n",
       "...          ...         ...        ...       ...       ...         ...   \n",
       "113937  16122603  2016-12-26   22:09:20  22:17:02  22:17:24         484   \n",
       "113938  16122604  2016-12-26   23:25:32  23:28:18  23:43:48        1096   \n",
       "113939  16122701  2016-12-27   08:33:08  08:39:06  08:39:40         392   \n",
       "113940  16122702  2016-12-27   12:21:24  12:21:30  12:30:04         520   \n",
       "113941  16122703  2016-12-27   12:35:40  12:37:14  12:39:00         200   \n",
       "\n",
       "        peak.c/s  total.counts energy.kev  x.pos.asec  y.pos.asec  radial  \\\n",
       "0            136        167304      12-25         592        -358     692   \n",
       "1              7          9504       6-12         604        -341     694   \n",
       "2             15         11448       6-12        -310         375     487   \n",
       "3             20         17400      12-25        -277         378     469   \n",
       "4            336        313392      25-50        -272         390     476   \n",
       "...          ...           ...        ...         ...         ...     ...   \n",
       "113937       152         75328        3-6           0           0       0   \n",
       "113938       304        142048        3-6           0           0       0   \n",
       "113939        80         32344        3-6           0           0       0   \n",
       "113940        24         17336       6-12         326         326     461   \n",
       "113941        48         11056       6-12         765         198     791   \n",
       "\n",
       "        active.region.ar flag.1 flag.2 flag.3 flag.4 flag.5  \n",
       "0                      0     A1     P1    NaN    NaN    NaN  \n",
       "1                   9811     A1     P1     PE     Q1    NaN  \n",
       "2                   9825     A1     P1    NaN    NaN    NaN  \n",
       "3                   9822     A1     P1    NaN    NaN    NaN  \n",
       "4                   9825     A1     GS     P1     PE     Q2  \n",
       "...                  ...    ...    ...    ...    ...    ...  \n",
       "113937                 0     A0     GE     NS     PE     Q2  \n",
       "113938                 0     A0     DR     NS     PE     Q2  \n",
       "113939                 0     A0     DF     NS     PE  Q3 SE  \n",
       "113940                 0     A0     DF     DR     P1  PE Q3  \n",
       "113941              2621     A0     DF     P1     PE     Q2  \n",
       "\n",
       "[113942 rows x 18 columns]"
      ]
     },
     "execution_count": 29,
     "metadata": {},
     "output_type": "execute_result"
    }
   ],
   "source": [
    "df"
   ]
  },
  {
   "cell_type": "markdown",
   "metadata": {
    "id": "4_U67DzZQuoe"
   },
   "source": [
    "**DATA CLEANING AND ANALYSIS**"
   ]
  },
  {
   "cell_type": "code",
   "execution_count": 30,
   "metadata": {
    "colab": {
     "base_uri": "https://localhost:8080/",
     "height": 531
    },
    "id": "MvjqeETpSthf",
    "outputId": "6c2fa85a-0885-45ca-a6b7-85295c6d5865"
   },
   "outputs": [
    {
     "data": {
      "image/png": "[encoded data removed]",
      "text/plain": [
       "<Figure size 640x480 with 2 Axes>"
      ]
     },
     "metadata": {},
     "output_type": "display_data"
    }
   ],
   "source": [
    "#A STUDY OF CORRELATION BETWEEN DIFFERENT PARAMETERS USING CORRELATION MATRIX\n",
    "matrix = df.corr().round(2)\n",
    "sns.heatmap(matrix, annot=True, vmax=1, vmin=-1, center=0, cmap='vlag')\n",
    "plt.show()"
   ]
  },
  {
   "cell_type": "markdown",
   "metadata": {
    "id": "hZkskkjV9IRp"
   },
   "source": [
    "Removing records with certain flags: NS, SD, SS, SE, PS, Q12, Q11, Q10, Q9, Q8, Q7, Q6, Q5, Q4"
   ]
  },
  {
   "cell_type": "code",
   "execution_count": 31,
   "metadata": {
    "id": "THFOYb_38BTl"
   },
   "outputs": [],
   "source": [
    "'''Filtering data based on the energy range 3-6 KeV, flags and radial values. Filtering possible values\n",
    "    which may be wrong or without any solar event '''\n",
    "\n",
    "def filter_data(DATA,lwrong):\n",
    "    ## filter 1: 3-6 kev\n",
    "    lenght1 = len(DATA)\n",
    "    DATA = DATA[DATA['energy.kev']!='3-6']\n",
    "    lenght2 = len(DATA)\n",
    "    if lenght1!=lenght2:\n",
    "        print('filtering 3-6 kev energy range',lenght1,lenght2)\n",
    "\n",
    "\n",
    "    # filter possible wrong values or without solar event\n",
    "    for icod in lwrong:\n",
    "        ## filter\n",
    "        lenght1 = len(DATA)\n",
    "        DATA = DATA[DATA['flag.1']!=icod]\n",
    "        lenght2 = len(DATA)\n",
    "        if lenght1!=lenght2:\n",
    "            print('filtering %s'%icod,lenght1,lenght2)\n",
    "\n",
    "        lenght1 = len(DATA)\n",
    "        DATA = DATA[DATA['flag.2']!=icod]\n",
    "        lenght2 = len(DATA)\n",
    "        if lenght1!=lenght2:\n",
    "            print('filtering %s'%icod,lenght1,lenght2)\n",
    "\n",
    "        lenght1 = len(DATA)\n",
    "        DATA = DATA[DATA['flag.3']!=icod]\n",
    "        lenght2 = len(DATA)\n",
    "        if lenght1!=lenght2:\n",
    "            print('filtering %s'%icod,lenght1,lenght2)\n",
    "\n",
    "        lenght1 = len(DATA)\n",
    "        DATA = DATA[DATA['flag.4']!=icod]\n",
    "        lenght2 = len(DATA)\n",
    "        if lenght1!=lenght2:\n",
    "            print('filtering %s'%icod,lenght1,lenght2)\n",
    "\n",
    "        lenght1 = len(DATA)\n",
    "        values = DATA['flag.5'].values\n",
    "        lfilter = [i for i in list(values[pd.notnull(values)]) if icod in i]\n",
    "        DATA = DATA[~DATA['flag.5'].isin(lfilter)]\n",
    "        lenght2 = len(DATA)\n",
    "        if lenght1!=lenght2:\n",
    "            print('filtering %s'%icod,lenght1,lenght2)\n",
    "\n",
    "    return DATA"
   ]
  },
  {
   "cell_type": "code",
   "execution_count": 32,
   "metadata": {
    "colab": {
     "base_uri": "https://localhost:8080/"
    },
    "id": "zVvgTYBd8Skn",
    "outputId": "e6c30179-b78b-4372-fd68-ac51219122f1"
   },
   "outputs": [
    {
     "name": "stdout",
     "output_type": "stream",
     "text": [
      "filtering 3-6 kev energy range 113942 107606\n",
      "filtering SD 107606 107570\n",
      "filtering SD 107570 107476\n",
      "filtering SS 107476 107469\n",
      "filtering SS 107469 107441\n",
      "filtering SE 107441 106999\n",
      "filtering SE 106999 106035\n",
      "filtering Q5 106035 105985\n",
      "filtering Q4 105985 104718\n"
     ]
    }
   ],
   "source": [
    "\n",
    "# filtering basic\n",
    "lwrong = ['NS','SD','SS','SE','PS','Q12','Q11','Q10','Q9','Q8','Q7','Q6','Q5','Q4']\n",
    "filtered_data = filter_data(df,lwrong)"
   ]
  },
  {
   "cell_type": "code",
   "execution_count": 33,
   "metadata": {
    "colab": {
     "base_uri": "https://localhost:8080/",
     "height": 443
    },
    "id": "ZCaCACtH9OOC",
    "outputId": "64cd8e29-d9f0-4f75-8db0-33beab5bb23f"
   },
   "outputs": [
    {
     "data": {
      "text/html": [
       "<div>\n",
       "<style scoped>\n",
       "    .dataframe tbody tr th:only-of-type {\n",
       "        vertical-align: middle;\n",
       "    }\n",
       "\n",
       "    .dataframe tbody tr th {\n",
       "        vertical-align: top;\n",
       "    }\n",
       "\n",
       "    .dataframe thead th {\n",
       "        text-align: right;\n",
       "    }\n",
       "</style>\n",
       "<table border=\"1\" class=\"dataframe\">\n",
       "  <thead>\n",
       "    <tr style=\"text-align: right;\">\n",
       "      <th></th>\n",
       "      <th>flare</th>\n",
       "      <th>start.date</th>\n",
       "      <th>start.time</th>\n",
       "      <th>peak</th>\n",
       "      <th>end</th>\n",
       "      <th>duration.s</th>\n",
       "      <th>peak.c/s</th>\n",
       "      <th>total.counts</th>\n",
       "      <th>energy.kev</th>\n",
       "      <th>x.pos.asec</th>\n",
       "      <th>y.pos.asec</th>\n",
       "      <th>radial</th>\n",
       "      <th>active.region.ar</th>\n",
       "      <th>flag.1</th>\n",
       "      <th>flag.2</th>\n",
       "      <th>flag.3</th>\n",
       "      <th>flag.4</th>\n",
       "      <th>flag.5</th>\n",
       "    </tr>\n",
       "  </thead>\n",
       "  <tbody>\n",
       "    <tr>\n",
       "      <th>0</th>\n",
       "      <td>2021213</td>\n",
       "      <td>2002-02-12</td>\n",
       "      <td>21:29:56</td>\n",
       "      <td>21:33:38</td>\n",
       "      <td>21:41:48</td>\n",
       "      <td>712</td>\n",
       "      <td>136</td>\n",
       "      <td>167304</td>\n",
       "      <td>12-25</td>\n",
       "      <td>592</td>\n",
       "      <td>-358</td>\n",
       "      <td>692</td>\n",
       "      <td>0</td>\n",
       "      <td>A1</td>\n",
       "      <td>P1</td>\n",
       "      <td>NaN</td>\n",
       "      <td>NaN</td>\n",
       "      <td>NaN</td>\n",
       "    </tr>\n",
       "    <tr>\n",
       "      <th>1</th>\n",
       "      <td>2021228</td>\n",
       "      <td>2002-02-12</td>\n",
       "      <td>21:44:08</td>\n",
       "      <td>21:45:06</td>\n",
       "      <td>21:48:56</td>\n",
       "      <td>288</td>\n",
       "      <td>7</td>\n",
       "      <td>9504</td>\n",
       "      <td>6-12</td>\n",
       "      <td>604</td>\n",
       "      <td>-341</td>\n",
       "      <td>694</td>\n",
       "      <td>9811</td>\n",
       "      <td>A1</td>\n",
       "      <td>P1</td>\n",
       "      <td>PE</td>\n",
       "      <td>Q1</td>\n",
       "      <td>NaN</td>\n",
       "    </tr>\n",
       "    <tr>\n",
       "      <th>2</th>\n",
       "      <td>2021332</td>\n",
       "      <td>2002-02-13</td>\n",
       "      <td>00:53:24</td>\n",
       "      <td>00:54:54</td>\n",
       "      <td>00:57:00</td>\n",
       "      <td>216</td>\n",
       "      <td>15</td>\n",
       "      <td>11448</td>\n",
       "      <td>6-12</td>\n",
       "      <td>-310</td>\n",
       "      <td>375</td>\n",
       "      <td>487</td>\n",
       "      <td>9825</td>\n",
       "      <td>A1</td>\n",
       "      <td>P1</td>\n",
       "      <td>NaN</td>\n",
       "      <td>NaN</td>\n",
       "      <td>NaN</td>\n",
       "    </tr>\n",
       "    <tr>\n",
       "      <th>3</th>\n",
       "      <td>2021308</td>\n",
       "      <td>2002-02-13</td>\n",
       "      <td>04:22:52</td>\n",
       "      <td>04:23:50</td>\n",
       "      <td>04:26:56</td>\n",
       "      <td>244</td>\n",
       "      <td>20</td>\n",
       "      <td>17400</td>\n",
       "      <td>12-25</td>\n",
       "      <td>-277</td>\n",
       "      <td>378</td>\n",
       "      <td>469</td>\n",
       "      <td>9822</td>\n",
       "      <td>A1</td>\n",
       "      <td>P1</td>\n",
       "      <td>NaN</td>\n",
       "      <td>NaN</td>\n",
       "      <td>NaN</td>\n",
       "    </tr>\n",
       "    <tr>\n",
       "      <th>4</th>\n",
       "      <td>2021310</td>\n",
       "      <td>2002-02-13</td>\n",
       "      <td>07:03:52</td>\n",
       "      <td>07:05:14</td>\n",
       "      <td>07:07:48</td>\n",
       "      <td>236</td>\n",
       "      <td>336</td>\n",
       "      <td>313392</td>\n",
       "      <td>25-50</td>\n",
       "      <td>-272</td>\n",
       "      <td>390</td>\n",
       "      <td>476</td>\n",
       "      <td>9825</td>\n",
       "      <td>A1</td>\n",
       "      <td>GS</td>\n",
       "      <td>P1</td>\n",
       "      <td>PE</td>\n",
       "      <td>Q2</td>\n",
       "    </tr>\n",
       "    <tr>\n",
       "      <th>...</th>\n",
       "      <td>...</td>\n",
       "      <td>...</td>\n",
       "      <td>...</td>\n",
       "      <td>...</td>\n",
       "      <td>...</td>\n",
       "      <td>...</td>\n",
       "      <td>...</td>\n",
       "      <td>...</td>\n",
       "      <td>...</td>\n",
       "      <td>...</td>\n",
       "      <td>...</td>\n",
       "      <td>...</td>\n",
       "      <td>...</td>\n",
       "      <td>...</td>\n",
       "      <td>...</td>\n",
       "      <td>...</td>\n",
       "      <td>...</td>\n",
       "      <td>...</td>\n",
       "    </tr>\n",
       "    <tr>\n",
       "      <th>113930</th>\n",
       "      <td>16121301</td>\n",
       "      <td>2016-12-13</td>\n",
       "      <td>15:40:12</td>\n",
       "      <td>15:41:14</td>\n",
       "      <td>15:43:36</td>\n",
       "      <td>204</td>\n",
       "      <td>24</td>\n",
       "      <td>8096</td>\n",
       "      <td>6-12</td>\n",
       "      <td>-336</td>\n",
       "      <td>260</td>\n",
       "      <td>425</td>\n",
       "      <td>0</td>\n",
       "      <td>A0</td>\n",
       "      <td>DR</td>\n",
       "      <td>EE</td>\n",
       "      <td>P1</td>\n",
       "      <td>PE Q3</td>\n",
       "    </tr>\n",
       "    <tr>\n",
       "      <th>113931</th>\n",
       "      <td>16121501</td>\n",
       "      <td>2016-12-15</td>\n",
       "      <td>03:26:36</td>\n",
       "      <td>03:30:06</td>\n",
       "      <td>03:38:32</td>\n",
       "      <td>716</td>\n",
       "      <td>136</td>\n",
       "      <td>76016</td>\n",
       "      <td>12-25</td>\n",
       "      <td>929</td>\n",
       "      <td>307</td>\n",
       "      <td>979</td>\n",
       "      <td>2617</td>\n",
       "      <td>A0</td>\n",
       "      <td>DR</td>\n",
       "      <td>P1</td>\n",
       "      <td>PE</td>\n",
       "      <td>Q2</td>\n",
       "    </tr>\n",
       "    <tr>\n",
       "      <th>113934</th>\n",
       "      <td>16122102</td>\n",
       "      <td>2016-12-21</td>\n",
       "      <td>16:16:40</td>\n",
       "      <td>16:16:42</td>\n",
       "      <td>16:16:48</td>\n",
       "      <td>8</td>\n",
       "      <td>24</td>\n",
       "      <td>368</td>\n",
       "      <td>6-12</td>\n",
       "      <td>914</td>\n",
       "      <td>-84</td>\n",
       "      <td>918</td>\n",
       "      <td>0</td>\n",
       "      <td>A0</td>\n",
       "      <td>DF</td>\n",
       "      <td>P1</td>\n",
       "      <td>PE</td>\n",
       "      <td>Q2</td>\n",
       "    </tr>\n",
       "    <tr>\n",
       "      <th>113940</th>\n",
       "      <td>16122702</td>\n",
       "      <td>2016-12-27</td>\n",
       "      <td>12:21:24</td>\n",
       "      <td>12:21:30</td>\n",
       "      <td>12:30:04</td>\n",
       "      <td>520</td>\n",
       "      <td>24</td>\n",
       "      <td>17336</td>\n",
       "      <td>6-12</td>\n",
       "      <td>326</td>\n",
       "      <td>326</td>\n",
       "      <td>461</td>\n",
       "      <td>0</td>\n",
       "      <td>A0</td>\n",
       "      <td>DF</td>\n",
       "      <td>DR</td>\n",
       "      <td>P1</td>\n",
       "      <td>PE Q3</td>\n",
       "    </tr>\n",
       "    <tr>\n",
       "      <th>113941</th>\n",
       "      <td>16122703</td>\n",
       "      <td>2016-12-27</td>\n",
       "      <td>12:35:40</td>\n",
       "      <td>12:37:14</td>\n",
       "      <td>12:39:00</td>\n",
       "      <td>200</td>\n",
       "      <td>48</td>\n",
       "      <td>11056</td>\n",
       "      <td>6-12</td>\n",
       "      <td>765</td>\n",
       "      <td>198</td>\n",
       "      <td>791</td>\n",
       "      <td>2621</td>\n",
       "      <td>A0</td>\n",
       "      <td>DF</td>\n",
       "      <td>P1</td>\n",
       "      <td>PE</td>\n",
       "      <td>Q2</td>\n",
       "    </tr>\n",
       "  </tbody>\n",
       "</table>\n",
       "<p>104718 rows × 18 columns</p>\n",
       "</div>"
      ],
      "text/plain": [
       "           flare  start.date start.time      peak       end  duration.s  \\\n",
       "0        2021213  2002-02-12   21:29:56  21:33:38  21:41:48         712   \n",
       "1        2021228  2002-02-12   21:44:08  21:45:06  21:48:56         288   \n",
       "2        2021332  2002-02-13   00:53:24  00:54:54  00:57:00         216   \n",
       "3        2021308  2002-02-13   04:22:52  04:23:50  04:26:56         244   \n",
       "4        2021310  2002-02-13   07:03:52  07:05:14  07:07:48         236   \n",
       "...          ...         ...        ...       ...       ...         ...   \n",
       "113930  16121301  2016-12-13   15:40:12  15:41:14  15:43:36         204   \n",
       "113931  16121501  2016-12-15   03:26:36  03:30:06  03:38:32         716   \n",
       "113934  16122102  2016-12-21   16:16:40  16:16:42  16:16:48           8   \n",
       "113940  16122702  2016-12-27   12:21:24  12:21:30  12:30:04         520   \n",
       "113941  16122703  2016-12-27   12:35:40  12:37:14  12:39:00         200   \n",
       "\n",
       "        peak.c/s  total.counts energy.kev  x.pos.asec  y.pos.asec  radial  \\\n",
       "0            136        167304      12-25         592        -358     692   \n",
       "1              7          9504       6-12         604        -341     694   \n",
       "2             15         11448       6-12        -310         375     487   \n",
       "3             20         17400      12-25        -277         378     469   \n",
       "4            336        313392      25-50        -272         390     476   \n",
       "...          ...           ...        ...         ...         ...     ...   \n",
       "113930        24          8096       6-12        -336         260     425   \n",
       "113931       136         76016      12-25         929         307     979   \n",
       "113934        24           368       6-12         914         -84     918   \n",
       "113940        24         17336       6-12         326         326     461   \n",
       "113941        48         11056       6-12         765         198     791   \n",
       "\n",
       "        active.region.ar flag.1 flag.2 flag.3 flag.4 flag.5  \n",
       "0                      0     A1     P1    NaN    NaN    NaN  \n",
       "1                   9811     A1     P1     PE     Q1    NaN  \n",
       "2                   9825     A1     P1    NaN    NaN    NaN  \n",
       "3                   9822     A1     P1    NaN    NaN    NaN  \n",
       "4                   9825     A1     GS     P1     PE     Q2  \n",
       "...                  ...    ...    ...    ...    ...    ...  \n",
       "113930                 0     A0     DR     EE     P1  PE Q3  \n",
       "113931              2617     A0     DR     P1     PE     Q2  \n",
       "113934                 0     A0     DF     P1     PE     Q2  \n",
       "113940                 0     A0     DF     DR     P1  PE Q3  \n",
       "113941              2621     A0     DF     P1     PE     Q2  \n",
       "\n",
       "[104718 rows x 18 columns]"
      ]
     },
     "execution_count": 33,
     "metadata": {},
     "output_type": "execute_result"
    }
   ],
   "source": [
    "filtered_data"
   ]
  },
  {
   "cell_type": "code",
   "execution_count": null,
   "metadata": {
    "id": "tqF4ZsEdB5No"
   },
   "outputs": [],
   "source": []
  },
  {
   "cell_type": "code",
   "execution_count": 34,
   "metadata": {
    "id": "Iq7R69ydEQBb"
   },
   "outputs": [],
   "source": [
    "#Splitting date to Month, Day and Year\n",
    "# process date / time columns\n",
    "def parse_date(sdatex,stimex):\n",
    "    datex = datetime.strptime(sdatex, '%Y-%m-%d')\n",
    "    timex = datetime.strptime(stimex, '%H:%M:%S')\n",
    "    return datetime(datex.year,datex.month,datex.day,timex.hour,timex.minute,timex.second)\n",
    "\n",
    "# Adding year, month, day, start date, peak date, end date and dropping earlier columns\n",
    "filtered_data['dt.start'] = filtered_data[['start.date','start.time']].apply(lambda x: parse_date(x[0],x[1]), axis=1)\n",
    "filtered_data['dt.peak'] = filtered_data[['start.date','peak']].apply(lambda x: parse_date(x[0],x[1]), axis=1)\n",
    "filtered_data['dt.end'] = filtered_data[['start.date','end']].apply(lambda x: parse_date(x[0],x[1]), axis=1)\n",
    "\n",
    "# clean columns\n",
    "filtered_data.drop(['start.date','start.time','peak','end'], axis=1, inplace=True)\n",
    "\n",
    "# add new columns\n",
    "filtered_data['year'] = filtered_data['dt.start'].apply(lambda col: col.year)\n",
    "filtered_data['month'] = filtered_data['dt.start'].apply(lambda col: col.month)\n",
    "filtered_data['day'] = filtered_data['dt.start'].apply(lambda col: col.day)\n",
    "filtered_data.drop(['dt.start','dt.peak','dt.end'], axis=1, inplace=True)"
   ]
  },
  {
   "cell_type": "code",
   "execution_count": 35,
   "metadata": {
    "colab": {
     "base_uri": "https://localhost:8080/",
     "height": 423
    },
    "id": "OMMu_0OeChTo",
    "outputId": "cf3057bb-c9b1-4ff8-e78c-91a114e14402"
   },
   "outputs": [
    {
     "data": {
      "text/html": [
       "<div>\n",
       "<style scoped>\n",
       "    .dataframe tbody tr th:only-of-type {\n",
       "        vertical-align: middle;\n",
       "    }\n",
       "\n",
       "    .dataframe tbody tr th {\n",
       "        vertical-align: top;\n",
       "    }\n",
       "\n",
       "    .dataframe thead th {\n",
       "        text-align: right;\n",
       "    }\n",
       "</style>\n",
       "<table border=\"1\" class=\"dataframe\">\n",
       "  <thead>\n",
       "    <tr style=\"text-align: right;\">\n",
       "      <th></th>\n",
       "      <th>flare</th>\n",
       "      <th>duration.s</th>\n",
       "      <th>peak.c/s</th>\n",
       "      <th>total.counts</th>\n",
       "      <th>energy.kev</th>\n",
       "      <th>x.pos.asec</th>\n",
       "      <th>y.pos.asec</th>\n",
       "      <th>radial</th>\n",
       "      <th>active.region.ar</th>\n",
       "      <th>flag.1</th>\n",
       "      <th>flag.2</th>\n",
       "      <th>flag.3</th>\n",
       "      <th>flag.4</th>\n",
       "      <th>flag.5</th>\n",
       "      <th>year</th>\n",
       "      <th>month</th>\n",
       "      <th>day</th>\n",
       "    </tr>\n",
       "  </thead>\n",
       "  <tbody>\n",
       "    <tr>\n",
       "      <th>0</th>\n",
       "      <td>2021213</td>\n",
       "      <td>712</td>\n",
       "      <td>136</td>\n",
       "      <td>167304</td>\n",
       "      <td>12-25</td>\n",
       "      <td>592</td>\n",
       "      <td>-358</td>\n",
       "      <td>692</td>\n",
       "      <td>0</td>\n",
       "      <td>A1</td>\n",
       "      <td>P1</td>\n",
       "      <td>NaN</td>\n",
       "      <td>NaN</td>\n",
       "      <td>NaN</td>\n",
       "      <td>2002</td>\n",
       "      <td>2</td>\n",
       "      <td>12</td>\n",
       "    </tr>\n",
       "    <tr>\n",
       "      <th>1</th>\n",
       "      <td>2021228</td>\n",
       "      <td>288</td>\n",
       "      <td>7</td>\n",
       "      <td>9504</td>\n",
       "      <td>6-12</td>\n",
       "      <td>604</td>\n",
       "      <td>-341</td>\n",
       "      <td>694</td>\n",
       "      <td>9811</td>\n",
       "      <td>A1</td>\n",
       "      <td>P1</td>\n",
       "      <td>PE</td>\n",
       "      <td>Q1</td>\n",
       "      <td>NaN</td>\n",
       "      <td>2002</td>\n",
       "      <td>2</td>\n",
       "      <td>12</td>\n",
       "    </tr>\n",
       "    <tr>\n",
       "      <th>2</th>\n",
       "      <td>2021332</td>\n",
       "      <td>216</td>\n",
       "      <td>15</td>\n",
       "      <td>11448</td>\n",
       "      <td>6-12</td>\n",
       "      <td>-310</td>\n",
       "      <td>375</td>\n",
       "      <td>487</td>\n",
       "      <td>9825</td>\n",
       "      <td>A1</td>\n",
       "      <td>P1</td>\n",
       "      <td>NaN</td>\n",
       "      <td>NaN</td>\n",
       "      <td>NaN</td>\n",
       "      <td>2002</td>\n",
       "      <td>2</td>\n",
       "      <td>13</td>\n",
       "    </tr>\n",
       "    <tr>\n",
       "      <th>3</th>\n",
       "      <td>2021308</td>\n",
       "      <td>244</td>\n",
       "      <td>20</td>\n",
       "      <td>17400</td>\n",
       "      <td>12-25</td>\n",
       "      <td>-277</td>\n",
       "      <td>378</td>\n",
       "      <td>469</td>\n",
       "      <td>9822</td>\n",
       "      <td>A1</td>\n",
       "      <td>P1</td>\n",
       "      <td>NaN</td>\n",
       "      <td>NaN</td>\n",
       "      <td>NaN</td>\n",
       "      <td>2002</td>\n",
       "      <td>2</td>\n",
       "      <td>13</td>\n",
       "    </tr>\n",
       "    <tr>\n",
       "      <th>4</th>\n",
       "      <td>2021310</td>\n",
       "      <td>236</td>\n",
       "      <td>336</td>\n",
       "      <td>313392</td>\n",
       "      <td>25-50</td>\n",
       "      <td>-272</td>\n",
       "      <td>390</td>\n",
       "      <td>476</td>\n",
       "      <td>9825</td>\n",
       "      <td>A1</td>\n",
       "      <td>GS</td>\n",
       "      <td>P1</td>\n",
       "      <td>PE</td>\n",
       "      <td>Q2</td>\n",
       "      <td>2002</td>\n",
       "      <td>2</td>\n",
       "      <td>13</td>\n",
       "    </tr>\n",
       "    <tr>\n",
       "      <th>...</th>\n",
       "      <td>...</td>\n",
       "      <td>...</td>\n",
       "      <td>...</td>\n",
       "      <td>...</td>\n",
       "      <td>...</td>\n",
       "      <td>...</td>\n",
       "      <td>...</td>\n",
       "      <td>...</td>\n",
       "      <td>...</td>\n",
       "      <td>...</td>\n",
       "      <td>...</td>\n",
       "      <td>...</td>\n",
       "      <td>...</td>\n",
       "      <td>...</td>\n",
       "      <td>...</td>\n",
       "      <td>...</td>\n",
       "      <td>...</td>\n",
       "    </tr>\n",
       "    <tr>\n",
       "      <th>113930</th>\n",
       "      <td>16121301</td>\n",
       "      <td>204</td>\n",
       "      <td>24</td>\n",
       "      <td>8096</td>\n",
       "      <td>6-12</td>\n",
       "      <td>-336</td>\n",
       "      <td>260</td>\n",
       "      <td>425</td>\n",
       "      <td>0</td>\n",
       "      <td>A0</td>\n",
       "      <td>DR</td>\n",
       "      <td>EE</td>\n",
       "      <td>P1</td>\n",
       "      <td>PE Q3</td>\n",
       "      <td>2016</td>\n",
       "      <td>12</td>\n",
       "      <td>13</td>\n",
       "    </tr>\n",
       "    <tr>\n",
       "      <th>113931</th>\n",
       "      <td>16121501</td>\n",
       "      <td>716</td>\n",
       "      <td>136</td>\n",
       "      <td>76016</td>\n",
       "      <td>12-25</td>\n",
       "      <td>929</td>\n",
       "      <td>307</td>\n",
       "      <td>979</td>\n",
       "      <td>2617</td>\n",
       "      <td>A0</td>\n",
       "      <td>DR</td>\n",
       "      <td>P1</td>\n",
       "      <td>PE</td>\n",
       "      <td>Q2</td>\n",
       "      <td>2016</td>\n",
       "      <td>12</td>\n",
       "      <td>15</td>\n",
       "    </tr>\n",
       "    <tr>\n",
       "      <th>113934</th>\n",
       "      <td>16122102</td>\n",
       "      <td>8</td>\n",
       "      <td>24</td>\n",
       "      <td>368</td>\n",
       "      <td>6-12</td>\n",
       "      <td>914</td>\n",
       "      <td>-84</td>\n",
       "      <td>918</td>\n",
       "      <td>0</td>\n",
       "      <td>A0</td>\n",
       "      <td>DF</td>\n",
       "      <td>P1</td>\n",
       "      <td>PE</td>\n",
       "      <td>Q2</td>\n",
       "      <td>2016</td>\n",
       "      <td>12</td>\n",
       "      <td>21</td>\n",
       "    </tr>\n",
       "    <tr>\n",
       "      <th>113940</th>\n",
       "      <td>16122702</td>\n",
       "      <td>520</td>\n",
       "      <td>24</td>\n",
       "      <td>17336</td>\n",
       "      <td>6-12</td>\n",
       "      <td>326</td>\n",
       "      <td>326</td>\n",
       "      <td>461</td>\n",
       "      <td>0</td>\n",
       "      <td>A0</td>\n",
       "      <td>DF</td>\n",
       "      <td>DR</td>\n",
       "      <td>P1</td>\n",
       "      <td>PE Q3</td>\n",
       "      <td>2016</td>\n",
       "      <td>12</td>\n",
       "      <td>27</td>\n",
       "    </tr>\n",
       "    <tr>\n",
       "      <th>113941</th>\n",
       "      <td>16122703</td>\n",
       "      <td>200</td>\n",
       "      <td>48</td>\n",
       "      <td>11056</td>\n",
       "      <td>6-12</td>\n",
       "      <td>765</td>\n",
       "      <td>198</td>\n",
       "      <td>791</td>\n",
       "      <td>2621</td>\n",
       "      <td>A0</td>\n",
       "      <td>DF</td>\n",
       "      <td>P1</td>\n",
       "      <td>PE</td>\n",
       "      <td>Q2</td>\n",
       "      <td>2016</td>\n",
       "      <td>12</td>\n",
       "      <td>27</td>\n",
       "    </tr>\n",
       "  </tbody>\n",
       "</table>\n",
       "<p>104718 rows × 17 columns</p>\n",
       "</div>"
      ],
      "text/plain": [
       "           flare  duration.s  peak.c/s  total.counts energy.kev  x.pos.asec  \\\n",
       "0        2021213         712       136        167304      12-25         592   \n",
       "1        2021228         288         7          9504       6-12         604   \n",
       "2        2021332         216        15         11448       6-12        -310   \n",
       "3        2021308         244        20         17400      12-25        -277   \n",
       "4        2021310         236       336        313392      25-50        -272   \n",
       "...          ...         ...       ...           ...        ...         ...   \n",
       "113930  16121301         204        24          8096       6-12        -336   \n",
       "113931  16121501         716       136         76016      12-25         929   \n",
       "113934  16122102           8        24           368       6-12         914   \n",
       "113940  16122702         520        24         17336       6-12         326   \n",
       "113941  16122703         200        48         11056       6-12         765   \n",
       "\n",
       "        y.pos.asec  radial  active.region.ar flag.1 flag.2 flag.3 flag.4  \\\n",
       "0             -358     692                 0     A1     P1    NaN    NaN   \n",
       "1             -341     694              9811     A1     P1     PE     Q1   \n",
       "2              375     487              9825     A1     P1    NaN    NaN   \n",
       "3              378     469              9822     A1     P1    NaN    NaN   \n",
       "4              390     476              9825     A1     GS     P1     PE   \n",
       "...            ...     ...               ...    ...    ...    ...    ...   \n",
       "113930         260     425                 0     A0     DR     EE     P1   \n",
       "113931         307     979              2617     A0     DR     P1     PE   \n",
       "113934         -84     918                 0     A0     DF     P1     PE   \n",
       "113940         326     461                 0     A0     DF     DR     P1   \n",
       "113941         198     791              2621     A0     DF     P1     PE   \n",
       "\n",
       "       flag.5  year  month  day  \n",
       "0         NaN  2002      2   12  \n",
       "1         NaN  2002      2   12  \n",
       "2         NaN  2002      2   13  \n",
       "3         NaN  2002      2   13  \n",
       "4          Q2  2002      2   13  \n",
       "...       ...   ...    ...  ...  \n",
       "113930  PE Q3  2016     12   13  \n",
       "113931     Q2  2016     12   15  \n",
       "113934     Q2  2016     12   21  \n",
       "113940  PE Q3  2016     12   27  \n",
       "113941     Q2  2016     12   27  \n",
       "\n",
       "[104718 rows x 17 columns]"
      ]
     },
     "execution_count": 35,
     "metadata": {},
     "output_type": "execute_result"
    }
   ],
   "source": [
    "filtered_data"
   ]
  },
  {
   "cell_type": "code",
   "execution_count": 36,
   "metadata": {
    "colab": {
     "base_uri": "https://localhost:8080/",
     "height": 510
    },
    "id": "-zLW2W4v-Uhd",
    "outputId": "5121bf7e-e92a-4a38-eb09-009f27b954c8"
   },
   "outputs": [
    {
     "name": "stdout",
     "output_type": "stream",
     "text": [
      "\n",
      "DataFrame after dropping columns:\n",
      "\n",
      "\n",
      "\n"
     ]
    },
    {
     "data": {
      "text/html": [
       "<div>\n",
       "<style scoped>\n",
       "    .dataframe tbody tr th:only-of-type {\n",
       "        vertical-align: middle;\n",
       "    }\n",
       "\n",
       "    .dataframe tbody tr th {\n",
       "        vertical-align: top;\n",
       "    }\n",
       "\n",
       "    .dataframe thead th {\n",
       "        text-align: right;\n",
       "    }\n",
       "</style>\n",
       "<table border=\"1\" class=\"dataframe\">\n",
       "  <thead>\n",
       "    <tr style=\"text-align: right;\">\n",
       "      <th></th>\n",
       "      <th>duration.s</th>\n",
       "      <th>peak.c/s</th>\n",
       "      <th>total.counts</th>\n",
       "      <th>energy.kev</th>\n",
       "      <th>x.pos.asec</th>\n",
       "      <th>y.pos.asec</th>\n",
       "      <th>radial</th>\n",
       "      <th>year</th>\n",
       "      <th>month</th>\n",
       "      <th>day</th>\n",
       "    </tr>\n",
       "  </thead>\n",
       "  <tbody>\n",
       "    <tr>\n",
       "      <th>0</th>\n",
       "      <td>712</td>\n",
       "      <td>136</td>\n",
       "      <td>167304</td>\n",
       "      <td>12-25</td>\n",
       "      <td>592</td>\n",
       "      <td>-358</td>\n",
       "      <td>692</td>\n",
       "      <td>2002</td>\n",
       "      <td>2</td>\n",
       "      <td>12</td>\n",
       "    </tr>\n",
       "    <tr>\n",
       "      <th>1</th>\n",
       "      <td>288</td>\n",
       "      <td>7</td>\n",
       "      <td>9504</td>\n",
       "      <td>6-12</td>\n",
       "      <td>604</td>\n",
       "      <td>-341</td>\n",
       "      <td>694</td>\n",
       "      <td>2002</td>\n",
       "      <td>2</td>\n",
       "      <td>12</td>\n",
       "    </tr>\n",
       "    <tr>\n",
       "      <th>2</th>\n",
       "      <td>216</td>\n",
       "      <td>15</td>\n",
       "      <td>11448</td>\n",
       "      <td>6-12</td>\n",
       "      <td>-310</td>\n",
       "      <td>375</td>\n",
       "      <td>487</td>\n",
       "      <td>2002</td>\n",
       "      <td>2</td>\n",
       "      <td>13</td>\n",
       "    </tr>\n",
       "    <tr>\n",
       "      <th>3</th>\n",
       "      <td>244</td>\n",
       "      <td>20</td>\n",
       "      <td>17400</td>\n",
       "      <td>12-25</td>\n",
       "      <td>-277</td>\n",
       "      <td>378</td>\n",
       "      <td>469</td>\n",
       "      <td>2002</td>\n",
       "      <td>2</td>\n",
       "      <td>13</td>\n",
       "    </tr>\n",
       "    <tr>\n",
       "      <th>4</th>\n",
       "      <td>236</td>\n",
       "      <td>336</td>\n",
       "      <td>313392</td>\n",
       "      <td>25-50</td>\n",
       "      <td>-272</td>\n",
       "      <td>390</td>\n",
       "      <td>476</td>\n",
       "      <td>2002</td>\n",
       "      <td>2</td>\n",
       "      <td>13</td>\n",
       "    </tr>\n",
       "    <tr>\n",
       "      <th>...</th>\n",
       "      <td>...</td>\n",
       "      <td>...</td>\n",
       "      <td>...</td>\n",
       "      <td>...</td>\n",
       "      <td>...</td>\n",
       "      <td>...</td>\n",
       "      <td>...</td>\n",
       "      <td>...</td>\n",
       "      <td>...</td>\n",
       "      <td>...</td>\n",
       "    </tr>\n",
       "    <tr>\n",
       "      <th>113930</th>\n",
       "      <td>204</td>\n",
       "      <td>24</td>\n",
       "      <td>8096</td>\n",
       "      <td>6-12</td>\n",
       "      <td>-336</td>\n",
       "      <td>260</td>\n",
       "      <td>425</td>\n",
       "      <td>2016</td>\n",
       "      <td>12</td>\n",
       "      <td>13</td>\n",
       "    </tr>\n",
       "    <tr>\n",
       "      <th>113931</th>\n",
       "      <td>716</td>\n",
       "      <td>136</td>\n",
       "      <td>76016</td>\n",
       "      <td>12-25</td>\n",
       "      <td>929</td>\n",
       "      <td>307</td>\n",
       "      <td>979</td>\n",
       "      <td>2016</td>\n",
       "      <td>12</td>\n",
       "      <td>15</td>\n",
       "    </tr>\n",
       "    <tr>\n",
       "      <th>113934</th>\n",
       "      <td>8</td>\n",
       "      <td>24</td>\n",
       "      <td>368</td>\n",
       "      <td>6-12</td>\n",
       "      <td>914</td>\n",
       "      <td>-84</td>\n",
       "      <td>918</td>\n",
       "      <td>2016</td>\n",
       "      <td>12</td>\n",
       "      <td>21</td>\n",
       "    </tr>\n",
       "    <tr>\n",
       "      <th>113940</th>\n",
       "      <td>520</td>\n",
       "      <td>24</td>\n",
       "      <td>17336</td>\n",
       "      <td>6-12</td>\n",
       "      <td>326</td>\n",
       "      <td>326</td>\n",
       "      <td>461</td>\n",
       "      <td>2016</td>\n",
       "      <td>12</td>\n",
       "      <td>27</td>\n",
       "    </tr>\n",
       "    <tr>\n",
       "      <th>113941</th>\n",
       "      <td>200</td>\n",
       "      <td>48</td>\n",
       "      <td>11056</td>\n",
       "      <td>6-12</td>\n",
       "      <td>765</td>\n",
       "      <td>198</td>\n",
       "      <td>791</td>\n",
       "      <td>2016</td>\n",
       "      <td>12</td>\n",
       "      <td>27</td>\n",
       "    </tr>\n",
       "  </tbody>\n",
       "</table>\n",
       "<p>104718 rows × 10 columns</p>\n",
       "</div>"
      ],
      "text/plain": [
       "        duration.s  peak.c/s  total.counts energy.kev  x.pos.asec  y.pos.asec  \\\n",
       "0              712       136        167304      12-25         592        -358   \n",
       "1              288         7          9504       6-12         604        -341   \n",
       "2              216        15         11448       6-12        -310         375   \n",
       "3              244        20         17400      12-25        -277         378   \n",
       "4              236       336        313392      25-50        -272         390   \n",
       "...            ...       ...           ...        ...         ...         ...   \n",
       "113930         204        24          8096       6-12        -336         260   \n",
       "113931         716       136         76016      12-25         929         307   \n",
       "113934           8        24           368       6-12         914         -84   \n",
       "113940         520        24         17336       6-12         326         326   \n",
       "113941         200        48         11056       6-12         765         198   \n",
       "\n",
       "        radial  year  month  day  \n",
       "0          692  2002      2   12  \n",
       "1          694  2002      2   12  \n",
       "2          487  2002      2   13  \n",
       "3          469  2002      2   13  \n",
       "4          476  2002      2   13  \n",
       "...        ...   ...    ...  ...  \n",
       "113930     425  2016     12   13  \n",
       "113931     979  2016     12   15  \n",
       "113934     918  2016     12   21  \n",
       "113940     461  2016     12   27  \n",
       "113941     791  2016     12   27  \n",
       "\n",
       "[104718 rows x 10 columns]"
      ]
     },
     "execution_count": 36,
     "metadata": {},
     "output_type": "execute_result"
    }
   ],
   "source": [
    "#Drop flare, flag.1, flag.2, flag.3, flag.4, flag.5\n",
    "\n",
    "# List of columns to be dropped\n",
    "columns_to_drop = ['flare', 'flag.1', 'flag.2', 'flag.3', 'flag.4', 'flag.5','active.region.ar']\n",
    "\n",
    "# Drop the specified columns\n",
    "df_dropped = filtered_data.drop(columns=columns_to_drop)\n",
    "\n",
    "# Display the DataFrame after dropping columns\n",
    "print(\"\\nDataFrame after dropping columns:\\n\\n\\n\")\n",
    "df_dropped"
   ]
  },
  {
   "cell_type": "code",
   "execution_count": 37,
   "metadata": {
    "colab": {
     "base_uri": "https://localhost:8080/"
    },
    "id": "_KrxlpTO_XG-",
    "outputId": "0466d760-d39e-454b-d214-efd53d20983f"
   },
   "outputs": [
    {
     "name": "stdout",
     "output_type": "stream",
     "text": [
      "duration.s      0\n",
      "peak.c/s        0\n",
      "total.counts    0\n",
      "energy.kev      0\n",
      "x.pos.asec      0\n",
      "y.pos.asec      0\n",
      "radial          0\n",
      "year            0\n",
      "month           0\n",
      "day             0\n",
      "dtype: int64\n",
      "duration.s      0\n",
      "peak.c/s        0\n",
      "total.counts    0\n",
      "energy.kev      0\n",
      "x.pos.asec      0\n",
      "y.pos.asec      0\n",
      "radial          0\n",
      "year            0\n",
      "month           0\n",
      "day             0\n",
      "dtype: int64\n",
      "<class 'pandas.core.frame.DataFrame'>\n",
      "Int64Index: 104718 entries, 0 to 113941\n",
      "Data columns (total 10 columns):\n",
      " #   Column        Non-Null Count   Dtype \n",
      "---  ------        --------------   ----- \n",
      " 0   duration.s    104718 non-null  int64 \n",
      " 1   peak.c/s      104718 non-null  int64 \n",
      " 2   total.counts  104718 non-null  int64 \n",
      " 3   energy.kev    104718 non-null  object\n",
      " 4   x.pos.asec    104718 non-null  int64 \n",
      " 5   y.pos.asec    104718 non-null  int64 \n",
      " 6   radial        104718 non-null  int64 \n",
      " 7   year          104718 non-null  int64 \n",
      " 8   month         104718 non-null  int64 \n",
      " 9   day           104718 non-null  int64 \n",
      "dtypes: int64(9), object(1)\n",
      "memory usage: 8.8+ MB\n",
      "None\n"
     ]
    }
   ],
   "source": [
    "#Checking Null Values\n",
    "print(df_dropped.isnull().sum())\n",
    "\n",
    "# Check for null values in a specific column\n",
    "print(df_dropped.isnull().sum())\n",
    "\n",
    "# Display a summary of null values and data types\n",
    "print(df_dropped.info())"
   ]
  },
  {
   "cell_type": "code",
   "execution_count": 38,
   "metadata": {
    "colab": {
     "base_uri": "https://localhost:8080/"
    },
    "id": "YgFAVx9lRoz9",
    "outputId": "a4b4c4ab-d0d5-46bd-9cc6-9baa02eae057"
   },
   "outputs": [
    {
     "name": "stdout",
     "output_type": "stream",
     "text": [
      "duration.s      0.0\n",
      "peak.c/s        0.0\n",
      "total.counts    0.0\n",
      "energy.kev      0.0\n",
      "x.pos.asec      0.0\n",
      "y.pos.asec      0.0\n",
      "radial          0.0\n",
      "year            0.0\n",
      "month           0.0\n",
      "day             0.0\n",
      "dtype: float64\n"
     ]
    }
   ],
   "source": [
    "#Checking Duplicates\n",
    "duplicates =df_dropped.duplicated()\n",
    "\n",
    "# Display rows with duplicate values\n",
    "print(df_dropped[duplicates].sum())"
   ]
  },
  {
   "cell_type": "code",
   "execution_count": 39,
   "metadata": {
    "colab": {
     "base_uri": "https://localhost:8080/"
    },
    "id": "nEaOVV5JAJxP",
    "outputId": "eb5adb99-5bce-4bd0-c8ea-7dd4db244c97"
   },
   "outputs": [
    {
     "name": "stdout",
     "output_type": "stream",
     "text": [
      "energy.kev\n",
      "100-300         155\n",
      "12-25         18417\n",
      "25-50          1806\n",
      "300-800           8\n",
      "50-100          359\n",
      "6-12          83970\n",
      "7000-20000        1\n",
      "800-7000          2\n",
      "Name: energy.kev, dtype: int64\n"
     ]
    }
   ],
   "source": [
    "#Number of energy band classes after data cleaning\n",
    "c=df_dropped.groupby(\"energy.kev\")[\"energy.kev\"].count()\n",
    "print(c)"
   ]
  },
  {
   "cell_type": "code",
   "execution_count": null,
   "metadata": {
    "id": "ZijgSNUkSFLb"
   },
   "outputs": [],
   "source": []
  },
  {
   "cell_type": "markdown",
   "metadata": {
    "id": "Gf5nN2F0-GaN"
   },
   "source": [
    "**Data Split: Training, Test and Unseen**"
   ]
  },
  {
   "cell_type": "code",
   "execution_count": 40,
   "metadata": {
    "colab": {
     "base_uri": "https://localhost:8080/"
    },
    "id": "clt3piMXARO5",
    "outputId": "e00dc5b8-15c0-4338-a34b-1af95f62093c"
   },
   "outputs": [
    {
     "name": "stdout",
     "output_type": "stream",
     "text": [
      "Shapes of the sets:\n",
      "Train set: (78539, 10)\n",
      "Test set: (13090, 10)\n",
      "Unseen set: (13090, 10)\n"
     ]
    }
   ],
   "source": [
    "rare_categories = df_dropped['energy.kev'].value_counts()[df_dropped['energy.kev'].value_counts() == 1].index\n",
    "\n",
    "# Create a DataFrame conaining only rows of rare categories\n",
    "duplicate_df = df_dropped[df_dropped['energy.kev'].isin(rare_categories)].copy()\n",
    "\n",
    "# Duplicate the records\n",
    "df_dropped = pd.concat([df_dropped, duplicate_df], ignore_index=True)\n",
    "y = df_dropped['energy.kev']\n",
    "\n",
    "# Use StratifiedShuffleSplit to split the data\n",
    "sss = StratifiedShuffleSplit(n_splits=2, test_size=0.25, random_state=42)\n",
    "\n",
    "for train_index, test_index in sss.split(df_dropped, y):\n",
    "    train_set = df_dropped.iloc[train_index]\n",
    "    test_unseen_set = df_dropped.iloc[test_index]\n",
    "\n",
    "# Further split the test_unseen_set into test_set and unseen_set\n",
    "test_set, unseen_set = train_test_split(\n",
    "    test_unseen_set,\n",
    "    test_size=0.5,\n",
    "    random_state=42,\n",
    "    stratify=test_unseen_set['energy.kev']\n",
    ")\n",
    "\n",
    "# Display the shapes of the resulting sets\n",
    "print(\"Shapes of the sets:\")\n",
    "print(\"Train set:\", train_set.shape)\n",
    "print(\"Test set:\", test_set.shape)\n",
    "print(\"Unseen set:\", unseen_set.shape)"
   ]
  },
  {
   "cell_type": "code",
   "execution_count": 41,
   "metadata": {
    "id": "vMfaprxbHEzm"
   },
   "outputs": [],
   "source": [
    "train_set.to_csv('train_set.csv', index=False)\n",
    "test_set.to_csv('test_set.csv', index=False)\n",
    "unseen_set.to_csv('unseen_set.csv', index=False)\n",
    "\n",
    "# To run in Jupyter Notebook\n",
    "# train_set.to_csv('../Dataset/train_set.csv', index=False)\n",
    "# test_set.to_csv('../Dataset/test_set.csv', index=False)\n",
    "# unseen_set.to_csv('../Dataset/unseen_set.csv', index=False)\n"
   ]
  },
  {
   "cell_type": "markdown",
   "metadata": {
    "id": "87g4UwGGHhgP"
   },
   "source": [
    "**Pipeline and Model**"
   ]
  },
  {
   "cell_type": "code",
   "execution_count": 42,
   "metadata": {
    "id": "06Ok0cWWHnBL"
   },
   "outputs": [],
   "source": [
    "df1=pd.read_csv('/content/train_set.csv')\n",
    "df2=pd.read_csv('/content/test_set.csv')\n",
    "\n",
    "# To run in Jupyter Notebook\n",
    "# df1=pd.read_csv(\"../Dataset/train_set.csv\")\n",
    "# df2=pd.read_csv('../Dataset/test_set.csv')\n"
   ]
  },
  {
   "cell_type": "code",
   "execution_count": 43,
   "metadata": {
    "colab": {
     "base_uri": "https://localhost:8080/"
    },
    "id": "Mhoqvun0HxYn",
    "outputId": "412f2a49-1d43-43b4-9964-eba0b03c78fd"
   },
   "outputs": [
    {
     "data": {
      "text/plain": [
       "array(['6-12', '12-25', '25-50', '100-300', '50-100', '7000-20000',\n",
       "       '800-7000', '300-800'], dtype=object)"
      ]
     },
     "execution_count": 43,
     "metadata": {},
     "output_type": "execute_result"
    }
   ],
   "source": [
    "X_train=df1.drop('energy.kev', axis=1)\n",
    "y_train=df1['energy.kev']\n",
    "X_test=df2.drop('energy.kev', axis=1)\n",
    "y_test=df2['energy.kev']\n",
    "y_train.unique()"
   ]
  },
  {
   "cell_type": "code",
   "execution_count": 44,
   "metadata": {
    "id": "kQTxPBK1H7Au"
   },
   "outputs": [],
   "source": [
    "#Encoding the target Column\n",
    "y_train=np.ravel(y_train)\n",
    "y_test=np.ravel(y_test)\n",
    "\n",
    "encoder = LabelEncoder()\n",
    "target_categories = ['6-12', '12-25', '25-50', '100-300', '50-100', '300-800','800-7000','7000-20000']\n",
    "encoder.fit(target_categories)\n",
    "y_train=encoder.transform(y_train)\n",
    "y_test=encoder.transform(y_test)"
   ]
  },
  {
   "cell_type": "markdown",
   "metadata": {
    "id": "QDOnWoFv4mkP"
   },
   "source": [
    "Model Selection"
   ]
  },
  {
   "cell_type": "markdown",
   "metadata": {
    "id": "mEUAEahl4y82"
   },
   "source": [
    "XGB classifier"
   ]
  },
  {
   "cell_type": "code",
   "execution_count": 45,
   "metadata": {
    "colab": {
     "base_uri": "https://localhost:8080/"
    },
    "id": "JDOrhjLi4pZz",
    "outputId": "6ffb1f17-99cf-4c75-b336-b871f4543723"
   },
   "outputs": [
    {
     "name": "stdout",
     "output_type": "stream",
     "text": [
      "              precision    recall  f1-score   support\n",
      "\n",
      "           0       0.17      0.05      0.08        19\n",
      "           1       0.69      0.57      0.63      2302\n",
      "           2       0.29      0.03      0.06       226\n",
      "           3       0.00      0.00      0.00         1\n",
      "           4       0.43      0.07      0.12        45\n",
      "           5       0.91      0.96      0.93     10497\n",
      "\n",
      "    accuracy                           0.87     13090\n",
      "   macro avg       0.41      0.28      0.30     13090\n",
      "weighted avg       0.85      0.87      0.86     13090\n",
      "\n"
     ]
    }
   ],
   "source": [
    "# Create the XGBClassifier\n",
    "xgb_classifier = XGBClassifier(random_state=42)\n",
    "\n",
    "# Create the pipeline\n",
    "pipeline = Pipeline([\n",
    "    ('scaler', StandardScaler()),\n",
    "    ('classifier', xgb_classifier)\n",
    "])\n",
    "\n",
    "# Fit the pipeline to the training data\n",
    "pipeline.fit(X_train, y_train)\n",
    "\n",
    "\n",
    "# Predict on the test set\n",
    "y_pred = pipeline.predict(X_test)\n",
    "\n",
    "# Evaluate the performance for XGBoost\n",
    "print(classification_report(y_test, y_pred))"
   ]
  },
  {
   "cell_type": "markdown",
   "metadata": {
    "id": "jb5ZKIed42kM"
   },
   "source": [
    "Random Forest"
   ]
  },
  {
   "cell_type": "code",
   "execution_count": 46,
   "metadata": {
    "colab": {
     "base_uri": "https://localhost:8080/"
    },
    "id": "rP_4vWbC47oL",
    "outputId": "abe8094b-61b6-4b54-c517-e4c633be7129"
   },
   "outputs": [
    {
     "name": "stdout",
     "output_type": "stream",
     "text": [
      "              precision    recall  f1-score   support\n",
      "\n",
      "           0       0.29      0.11      0.15        19\n",
      "           1       0.70      0.55      0.62      2302\n",
      "           2       0.40      0.04      0.07       226\n",
      "           3       0.00      0.00      0.00         1\n",
      "           4       0.43      0.07      0.12        45\n",
      "           5       0.90      0.96      0.93     10497\n",
      "\n",
      "    accuracy                           0.87     13090\n",
      "   macro avg       0.45      0.29      0.31     13090\n",
      "weighted avg       0.85      0.87      0.86     13090\n",
      "\n"
     ]
    }
   ],
   "source": [
    "random_forest_classifier = RandomForestClassifier(random_state=42)\n",
    "pipeline = Pipeline([\n",
    "    ('scaler', StandardScaler()),\n",
    "    ('classifier', random_forest_classifier)\n",
    "])\n",
    "\n",
    "# Fit the pipeline to the training data\n",
    "pipeline.fit(X_train, y_train)\n",
    "\n",
    "\n",
    "# Predict on the test set\n",
    "y_pred = pipeline.predict(X_test)\n",
    "\n",
    "# Evaluate the performance for Random Forest\n",
    "print(classification_report(y_test, y_pred))"
   ]
  },
  {
   "cell_type": "markdown",
   "metadata": {
    "id": "xgqVfVGW5POV"
   },
   "source": [
    "Decision Tree"
   ]
  },
  {
   "cell_type": "code",
   "execution_count": 47,
   "metadata": {
    "colab": {
     "base_uri": "https://localhost:8080/"
    },
    "id": "tuDLsxiR5QkT",
    "outputId": "7f0a6077-7f8a-425f-fc29-5a5faa6acc22"
   },
   "outputs": [
    {
     "name": "stdout",
     "output_type": "stream",
     "text": [
      "              precision    recall  f1-score   support\n",
      "\n",
      "           0       0.13      0.16      0.14        19\n",
      "           1       0.50      0.52      0.51      2302\n",
      "           2       0.10      0.12      0.11       226\n",
      "           3       0.00      0.00      0.00         1\n",
      "           4       0.15      0.16      0.15        45\n",
      "           5       0.90      0.89      0.90     10497\n",
      "\n",
      "    accuracy                           0.81     13090\n",
      "   macro avg       0.30      0.31      0.30     13090\n",
      "weighted avg       0.81      0.81      0.81     13090\n",
      "\n"
     ]
    }
   ],
   "source": [
    "decision_tree_classifier = DecisionTreeClassifier(random_state=42)\n",
    "pipeline = Pipeline([\n",
    "    ('scaler', StandardScaler()),\n",
    "    ('classifier', decision_tree_classifier)\n",
    "])\n",
    "\n",
    "# Fit the pipeline to the training data\n",
    "pipeline.fit(X_train, y_train)\n",
    "\n",
    "\n",
    "# Predict on the test set\n",
    "y_pred = pipeline.predict(X_test)\n",
    "\n",
    "# Evaluate the performance for Decision Tree\n",
    "print(classification_report(y_test, y_pred))"
   ]
  },
  {
   "cell_type": "markdown",
   "metadata": {
    "id": "aT-XU5Dj5bgP"
   },
   "source": [
    "SVM"
   ]
  },
  {
   "cell_type": "code",
   "execution_count": 48,
   "metadata": {
    "colab": {
     "base_uri": "https://localhost:8080/"
    },
    "id": "H2SaeXoU5coY",
    "outputId": "9f3a08ee-43f6-426c-d5d9-2bb546f121ce"
   },
   "outputs": [
    {
     "name": "stdout",
     "output_type": "stream",
     "text": [
      "              precision    recall  f1-score   support\n",
      "\n",
      "           0       0.00      0.00      0.00        19\n",
      "           1       0.73      0.36      0.49      2302\n",
      "           2       0.20      0.00      0.01       226\n",
      "           3       0.00      0.00      0.00         1\n",
      "           4       0.00      0.00      0.00        45\n",
      "           5       0.87      0.99      0.92     10497\n",
      "\n",
      "    accuracy                           0.85     13090\n",
      "   macro avg       0.30      0.23      0.24     13090\n",
      "weighted avg       0.83      0.85      0.83     13090\n",
      "\n"
     ]
    }
   ],
   "source": [
    "svm_classifier = SVC(kernel='rbf', random_state=42)\n",
    "pipeline = Pipeline([\n",
    "    ('scaler', StandardScaler()),\n",
    "    ('classifier', svm_classifier)\n",
    "])\n",
    "\n",
    "# Fit the pipeline to the training data\n",
    "pipeline.fit(X_train, y_train)\n",
    "\n",
    "\n",
    "# Predict on the test set\n",
    "y_pred = pipeline.predict(X_test)\n",
    "\n",
    "# Evaluate the performance for SVM\n",
    "print(classification_report(y_test, y_pred))"
   ]
  },
  {
   "cell_type": "markdown",
   "metadata": {
    "id": "o68Xaz9C2t23"
   },
   "source": [
    "Hyperparameter Tuning for XGBoost"
   ]
  },
  {
   "cell_type": "code",
   "execution_count": 49,
   "metadata": {
    "colab": {
     "base_uri": "https://localhost:8080/"
    },
    "id": "rRJRSHfp2xgo",
    "outputId": "d99f8809-ca10-408d-9500-7290fb08e04c"
   },
   "outputs": [
    {
     "name": "stdout",
     "output_type": "stream",
     "text": [
      "Best Hyperparameters: {'classifier__learning_rate': 0.4, 'classifier__max_depth': 5, 'classifier__n_estimators': 300}\n",
      "              precision    recall  f1-score   support\n",
      "\n",
      "           0       0.25      0.11      0.15        19\n",
      "           1       0.68      0.59      0.63      2302\n",
      "           2       0.19      0.03      0.05       226\n",
      "           3       0.00      0.00      0.00         1\n",
      "           4       0.38      0.11      0.17        45\n",
      "           5       0.91      0.96      0.93     10497\n",
      "\n",
      "    accuracy                           0.87     13090\n",
      "   macro avg       0.40      0.30      0.32     13090\n",
      "weighted avg       0.85      0.87      0.86     13090\n",
      "\n"
     ]
    }
   ],
   "source": [
    "xgb_classifier = XGBClassifier(random_state=42)\n",
    "\n",
    "# Create the pipeline\n",
    "pipeline = Pipeline([\n",
    "    ('scaler', StandardScaler()),\n",
    "    ('classifier', xgb_classifier)\n",
    "])\n",
    "\n",
    "\n",
    "param_grid = {\n",
    "    'classifier__n_estimators': [100, 200, 300],\n",
    "    'classifier__learning_rate': [0.1, 0.2, 0.4],\n",
    "    'classifier__max_depth': [3, 4, 5]\n",
    "}\n",
    "\n",
    "\n",
    "grid_search = GridSearchCV(pipeline, param_grid, cv=5, scoring='f1_macro')\n",
    "\n",
    "# Fit the grid search to the data\n",
    "grid_search.fit(X_train, y_train)\n",
    "\n",
    "# Print the best hyperparameters\n",
    "print(\"Best Hyperparameters:\", grid_search.best_params_)\n",
    "\n",
    "# Get the best model\n",
    "best_model = grid_search.best_estimator_\n",
    "\n",
    "# Predict on the test set\n",
    "y_pred = best_model.predict(X_test)\n",
    "\n",
    "# Evaluate the performance\n",
    "print(classification_report(y_test, y_pred))"
   ]
  },
  {
   "cell_type": "markdown",
   "metadata": {
    "id": "la23kFl_Dkng"
   },
   "source": [
    "OverSampling and Undersampling"
   ]
  },
  {
   "cell_type": "code",
   "execution_count": 50,
   "metadata": {
    "colab": {
     "base_uri": "https://localhost:8080/"
    },
    "id": "gV37ot5LEkuO",
    "outputId": "efd627a1-6993-44d3-ef9f-9fba2052cde1"
   },
   "outputs": [
    {
     "name": "stdout",
     "output_type": "stream",
     "text": [
      "              precision    recall  f1-score   support\n",
      "\n",
      "           0       0.21      0.16      0.18        19\n",
      "           1       0.55      0.72      0.62      2302\n",
      "           2       0.15      0.17      0.16       226\n",
      "           3       0.00      0.00      0.00         1\n",
      "           4       0.20      0.09      0.12        45\n",
      "           5       0.95      0.88      0.91     10497\n",
      "\n",
      "    accuracy                           0.83     13090\n",
      "   macro avg       0.34      0.34      0.33     13090\n",
      "weighted avg       0.86      0.83      0.84     13090\n",
      "\n"
     ]
    }
   ],
   "source": [
    "over = RandomOverSampler(sampling_strategy='not majority')\n",
    "\n",
    "pipeline = imbPipeline([\n",
    "     ('o', over),\n",
    "    ('scaler', RobustScaler()),\n",
    "    ('classifier', XGBClassifier(learning_rate=0.4, max_depth=5, n_estimators=300))\n",
    "])\n",
    "# Fit the pipeline to the training data\n",
    "pipeline.fit(X_train, y_train)\n",
    "\n",
    "\n",
    "# Predict on the test set\n",
    "y_pred = pipeline.predict(X_test)\n",
    "\n",
    "# Evaluate the performance with Oversampling\n",
    "print(classification_report(y_test, y_pred))"
   ]
  },
  {
   "cell_type": "code",
   "execution_count": 51,
   "metadata": {
    "colab": {
     "base_uri": "https://localhost:8080/"
    },
    "id": "mrIhhoEqXhyU",
    "outputId": "d7871756-7b43-4fcf-d585-5efc74da0694"
   },
   "outputs": [
    {
     "name": "stdout",
     "output_type": "stream",
     "text": [
      "              precision    recall  f1-score   support\n",
      "\n",
      "           0       0.25      0.16      0.19        19\n",
      "           1       0.55      0.71      0.62      2302\n",
      "           2       0.14      0.18      0.15       226\n",
      "           3       0.00      0.00      0.00         1\n",
      "           4       0.24      0.11      0.15        45\n",
      "           5       0.95      0.88      0.91     10497\n",
      "\n",
      "    accuracy                           0.83     13090\n",
      "   macro avg       0.35      0.34      0.34     13090\n",
      "weighted avg       0.86      0.83      0.84     13090\n",
      "\n"
     ]
    }
   ],
   "source": [
    "over = RandomOverSampler(sampling_strategy='all')\n",
    "pipeline = imbPipeline([\n",
    "     ('o', over),\n",
    "    ('scaler', RobustScaler()),\n",
    "    ('classifier', XGBClassifier(learning_rate=0.4, max_depth=5, n_estimators=300))\n",
    "])\n",
    "# Fit the pipeline to the training data\n",
    "pipeline.fit(X_train, y_train)\n",
    "\n",
    "\n",
    "# Predict on the test set\n",
    "y_pred = pipeline.predict(X_test)\n",
    "\n",
    "# Evaluate the performance with Oversampling\n",
    "print(classification_report(y_test, y_pred))"
   ]
  },
  {
   "cell_type": "code",
   "execution_count": 52,
   "metadata": {
    "colab": {
     "base_uri": "https://localhost:8080/"
    },
    "id": "-sMziQD9EtYy",
    "outputId": "6e609ec6-90fe-470b-f4cb-725e55984115"
   },
   "outputs": [
    {
     "name": "stdout",
     "output_type": "stream",
     "text": [
      "              precision    recall  f1-score   support\n",
      "\n",
      "           0       0.01      0.11      0.01        19\n",
      "           1       0.17      0.15      0.16      2302\n",
      "           2       0.03      0.28      0.05       226\n",
      "           3       0.00      0.00      0.00         1\n",
      "           4       0.01      0.07      0.01        45\n",
      "           5       0.86      0.21      0.34     10497\n",
      "           6       0.00      0.00      0.00         0\n",
      "           7       0.00      0.00      0.00         0\n",
      "\n",
      "    accuracy                           0.20     13090\n",
      "   macro avg       0.13      0.10      0.07     13090\n",
      "weighted avg       0.72      0.20      0.30     13090\n",
      "\n"
     ]
    }
   ],
   "source": [
    "under = RandomUnderSampler(sampling_strategy='all')\n",
    "\n",
    "pipeline = imbPipeline([\n",
    "    ('u', under),\n",
    "    ('scaler', RobustScaler()),\n",
    "    ('classifier', XGBClassifier(learning_rate=0.4, max_depth=5, n_estimators=300))\n",
    "])\n",
    "# Fit the pipeline to the training data\n",
    "pipeline.fit(X_train, y_train)\n",
    "\n",
    "\n",
    "# Predict on the test set\n",
    "y_pred = pipeline.predict(X_test)\n",
    "\n",
    "# Evaluate the performance with Undersampling\n",
    "print(classification_report(y_test, y_pred))"
   ]
  },
  {
   "cell_type": "code",
   "execution_count": null,
   "metadata": {
    "colab": {
     "base_uri": "https://localhost:8080/"
    },
    "id": "LSWReiTRDoso",
    "outputId": "fdc275b3-498b-41cd-8e68-f6d5ed19ba9c"
   },
   "outputs": [],
   "source": [
    "over = RandomOverSampler(sampling_strategy='not majority')\n",
    "under = RandomUnderSampler(sampling_strategy='all')\n",
    "\n",
    "pipeline = imbPipeline([\n",
    "     ('o', over),('u', under),\n",
    "    ('scaler', RobustScaler()),\n",
    "    ('classifier', XGBClassifier(learning_rate=0.4, max_depth=5, n_estimators=300))\n",
    "])\n",
    "# Fit the pipeline to the training data\n",
    "pipeline.fit(X_train, y_train)\n",
    "\n",
    "\n",
    "# Predict on the test set\n",
    "y_pred = pipeline.predict(X_test)\n",
    "\n",
    "# Evaluate the performance with both\n",
    "print(classification_report(y_test, y_pred))"
   ]
  },
  {
   "cell_type": "code",
   "execution_count": null,
   "metadata": {
    "id": "2iTOuopwErUH"
   },
   "outputs": [],
   "source": []
  },
  {
   "cell_type": "markdown",
   "metadata": {
    "id": "KL9hLOpxDg1y"
   },
   "source": [
    "Creating Pipeline after Hyperparameter Tuning"
   ]
  },
  {
   "cell_type": "markdown",
   "metadata": {},
   "source": []
  },
  {
   "cell_type": "code",
   "execution_count": null,
   "metadata": {
    "id": "xMbTRJSqIkgI"
   },
   "outputs": [],
   "source": [
    "pipeline = Pipeline([\n",
    "    ('scaler', RobustScaler()),\n",
    "    ('classifier', XGBClassifier(learning_rate=0.4, max_depth=5, n_estimators=300))\n",
    "])"
   ]
  },
  {
   "cell_type": "markdown",
   "metadata": {
    "id": "-N5_FSGRJe5u"
   },
   "source": [
    "Checking Overfitting With Stratified K fold"
   ]
  },
  {
   "cell_type": "code",
   "execution_count": null,
   "metadata": {
    "colab": {
     "base_uri": "https://localhost:8080/"
    },
    "id": "Q_hRLWyzI2DM",
    "outputId": "c83f420b-799d-446a-d8a7-9d69fdff1ce1"
   },
   "outputs": [],
   "source": [
    "# Specify the scoring metric (F1 score)\n",
    "scorer = make_scorer(f1_score, average='weighted')  # 'weighted' for multi-class classification\n",
    "\n",
    "# Specify the number of folds for Stratified K-Fold cross-validation\n",
    "n_folds = 5\n",
    "\n",
    "# Instantiate StratifiedKFold\n",
    "stratified_kfold = StratifiedKFold(n_splits=n_folds, shuffle=True, random_state=42)\n",
    "\n",
    "# Perform cross-validation and calculate F1 scores\n",
    "f1_scores = cross_val_score(pipeline, X_train, y_train, cv=stratified_kfold, scoring=scorer)\n",
    "\n",
    "# Print the F1 scores for each fold\n",
    "for fold, f1_score_value in enumerate(f1_scores, 1):\n",
    "    print(f\"Fold {fold}: F1 Score = {f1_score_value:.4f}\")\n",
    "\n",
    "# Print the average F1 score across all folds\n",
    "average_f1_score = f1_scores.mean()\n",
    "print(f\"\\nAverage F1 Score across all folds: {average_f1_score:.4f}\")"
   ]
  },
  {
   "cell_type": "code",
   "execution_count": null,
   "metadata": {
    "colab": {
     "base_uri": "https://localhost:8080/"
    },
    "id": "d5elahgqJsmi",
    "outputId": "5c546664-a63c-4f75-b9fd-c69e3a2eb0ec"
   },
   "outputs": [],
   "source": [
    "pipeline.fit(X_train, y_train)\n",
    "\n",
    "\n",
    "# Predict on the test set\n",
    "y_pred = pipeline.predict(X_test)\n",
    "\n",
    "# Evaluate the performance\n",
    "print(classification_report(y_test, y_pred))"
   ]
  },
  {
   "cell_type": "markdown",
   "metadata": {
    "id": "mh463F5tKTnX"
   },
   "source": [
    "Download Encoder and Model"
   ]
  },
  {
   "cell_type": "code",
   "execution_count": null,
   "metadata": {
    "colab": {
     "base_uri": "https://localhost:8080/"
    },
    "id": "ZbF1syBhKL_0",
    "outputId": "dc980bcf-1678-4f64-81ec-5b6a98ca97b6"
   },
   "outputs": [],
   "source": [
    "joblib.dump(pipeline, 'trained_pipeline.joblib')\n",
    "joblib.dump(encoder, 'label_encoder.joblib')\n",
    "\n",
    "# To run in Jupyter Notebook\n",
    "# joblib.dump(pipeline, '../Dataset/trained_pipeline.joblib')\n",
    "# joblib.dump(encoder, '../Dataset/label_encoder.joblib')"
   ]
  },
  {
   "cell_type": "markdown",
   "metadata": {
    "id": "q_l6JO3aKdkQ"
   },
   "source": [
    "**Implement on Unseen data**"
   ]
  },
  {
   "cell_type": "code",
   "execution_count": null,
   "metadata": {
    "id": "cQecqQ3sKsoc"
   },
   "outputs": [],
   "source": [
    "df3=pd.read_csv('/content/unseen_set.csv')\n",
    "\n",
    "# To run in Jupyter Notebook\n",
    "# df3=pd.read_csv('../Dataset/unseen_set.csv')\n",
    "\n",
    "x=df3.drop('energy.kev', axis=1)\n",
    "y=df3['energy.kev']"
   ]
  },
  {
   "cell_type": "code",
   "execution_count": null,
   "metadata": {
    "id": "MNV3LJOiK7u-"
   },
   "outputs": [],
   "source": [
    "loaded_pipeline = joblib.load('/content/trained_pipeline.joblib')\n",
    "loaded_encoder=joblib.load('/content/label_encoder.joblib')\n",
    "\n",
    "# To run in Jupyter Notebook\n",
    "# loaded_pipeline = joblib.load('../Dataset/trained_pipeline.joblib')\n",
    "# loaded_encoder=joblib.load('../Dataset/label_encoder.joblib')"
   ]
  },
  {
   "cell_type": "code",
   "execution_count": null,
   "metadata": {
    "id": "nE_NGAZCLAjC"
   },
   "outputs": [],
   "source": [
    "y=loaded_encoder.transform(y)"
   ]
  },
  {
   "cell_type": "code",
   "execution_count": null,
   "metadata": {
    "id": "WXwf9SK4LDgO"
   },
   "outputs": [],
   "source": [
    "predictions = loaded_pipeline.predict(x)"
   ]
  },
  {
   "cell_type": "code",
   "execution_count": null,
   "metadata": {
    "colab": {
     "base_uri": "https://localhost:8080/"
    },
    "id": "aCaofPQtMcpD",
    "outputId": "fcff245e-7543-468f-c1a8-6564424cd3d8"
   },
   "outputs": [],
   "source": [
    "print(classification_report(y, predictions))"
   ]
  }
 ],
 "metadata": {
  "accelerator": "TPU",
  "colab": {
   "provenance": []
  },
  "kernelspec": {
   "display_name": "Python 3 (ipykernel)",
   "language": "python",
   "name": "python3"
  },
  "language_info": {
   "codemirror_mode": {
    "name": "ipython",
    "version": 3
   },
   "file_extension": ".py",
   "mimetype": "text/x-python",
   "name": "python",
   "nbconvert_exporter": "python",
   "pygments_lexer": "ipython3",
   "version": "3.9.13"
  }
 },
 "nbformat": 4,
 "nbformat_minor": 1
}
